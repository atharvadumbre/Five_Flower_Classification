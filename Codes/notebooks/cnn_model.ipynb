{
 "cells": [
  {
   "cell_type": "code",
   "execution_count": 1,
   "id": "d66e44c1",
   "metadata": {},
   "outputs": [],
   "source": [
    "import numpy as np\n",
    "import pandas as pd\n",
    "import matplotlib.pyplot as plt\n",
    "import tensorflow as tf\n",
    "from tensorflow import keras"
   ]
  },
  {
   "cell_type": "code",
   "execution_count": 2,
   "id": "5bb122b0",
   "metadata": {},
   "outputs": [],
   "source": [
    "from pathlib import Path\n",
    "import glob\n",
    "import os\n",
    "import os.path"
   ]
  },
  {
   "cell_type": "code",
   "execution_count": 3,
   "id": "d16e4ab0",
   "metadata": {},
   "outputs": [],
   "source": [
    "path = Path('flowers')\n",
    "\n",
    "images = list(path.glob(r'*/*.jpg'))\n",
    "\n",
    "labels = list(map(lambda x:os.path.split(os.path.split(x)[0])[1],images))"
   ]
  },
  {
   "cell_type": "code",
   "execution_count": 4,
   "id": "bd98ae14",
   "metadata": {},
   "outputs": [],
   "source": [
    "images_series = pd.Series(images,name='image_path').astype(str)\n",
    "labels_series = pd.Series(labels,name='labels')"
   ]
  },
  {
   "cell_type": "code",
   "execution_count": 5,
   "id": "4b317993",
   "metadata": {},
   "outputs": [],
   "source": [
    "data = pd.concat([images_series,labels_series],axis=1)"
   ]
  },
  {
   "cell_type": "code",
   "execution_count": 6,
   "id": "8ebbf3f5",
   "metadata": {},
   "outputs": [
    {
     "data": {
      "text/html": [
       "<div>\n",
       "<style scoped>\n",
       "    .dataframe tbody tr th:only-of-type {\n",
       "        vertical-align: middle;\n",
       "    }\n",
       "\n",
       "    .dataframe tbody tr th {\n",
       "        vertical-align: top;\n",
       "    }\n",
       "\n",
       "    .dataframe thead th {\n",
       "        text-align: right;\n",
       "    }\n",
       "</style>\n",
       "<table border=\"1\" class=\"dataframe\">\n",
       "  <thead>\n",
       "    <tr style=\"text-align: right;\">\n",
       "      <th></th>\n",
       "      <th>image_path</th>\n",
       "      <th>labels</th>\n",
       "    </tr>\n",
       "  </thead>\n",
       "  <tbody>\n",
       "    <tr>\n",
       "      <th>0</th>\n",
       "      <td>flowers\\dandelion\\33850973214_c1b4000d9c_n.jpg</td>\n",
       "      <td>dandelion</td>\n",
       "    </tr>\n",
       "    <tr>\n",
       "      <th>1</th>\n",
       "      <td>flowers\\rose\\9300754115_dd79670066_n.jpg</td>\n",
       "      <td>rose</td>\n",
       "    </tr>\n",
       "    <tr>\n",
       "      <th>2</th>\n",
       "      <td>flowers\\tulip\\20133942640_0f4442b858_n.jpg</td>\n",
       "      <td>tulip</td>\n",
       "    </tr>\n",
       "    <tr>\n",
       "      <th>3</th>\n",
       "      <td>flowers\\daisy\\20948886919_cac7844f34_n.jpg</td>\n",
       "      <td>daisy</td>\n",
       "    </tr>\n",
       "    <tr>\n",
       "      <th>4</th>\n",
       "      <td>flowers\\rose\\12323085443_8ac0cdb713_n.jpg</td>\n",
       "      <td>rose</td>\n",
       "    </tr>\n",
       "    <tr>\n",
       "      <th>...</th>\n",
       "      <td>...</td>\n",
       "      <td>...</td>\n",
       "    </tr>\n",
       "    <tr>\n",
       "      <th>4312</th>\n",
       "      <td>flowers\\daisy\\33859244503_eeeca6a397_n.jpg</td>\n",
       "      <td>daisy</td>\n",
       "    </tr>\n",
       "    <tr>\n",
       "      <th>4313</th>\n",
       "      <td>flowers\\dandelion\\13807932364_673b7f1c1c_n.jpg</td>\n",
       "      <td>dandelion</td>\n",
       "    </tr>\n",
       "    <tr>\n",
       "      <th>4314</th>\n",
       "      <td>flowers\\tulip\\12916135413_dafcf3089e_n.jpg</td>\n",
       "      <td>tulip</td>\n",
       "    </tr>\n",
       "    <tr>\n",
       "      <th>4315</th>\n",
       "      <td>flowers\\daisy\\2365428551_39f83f10bf_n.jpg</td>\n",
       "      <td>daisy</td>\n",
       "    </tr>\n",
       "    <tr>\n",
       "      <th>4316</th>\n",
       "      <td>flowers\\sunflower\\4893660821_eb7f02bef3_n.jpg</td>\n",
       "      <td>sunflower</td>\n",
       "    </tr>\n",
       "  </tbody>\n",
       "</table>\n",
       "<p>4317 rows × 2 columns</p>\n",
       "</div>"
      ],
      "text/plain": [
       "                                          image_path     labels\n",
       "0     flowers\\dandelion\\33850973214_c1b4000d9c_n.jpg  dandelion\n",
       "1           flowers\\rose\\9300754115_dd79670066_n.jpg       rose\n",
       "2         flowers\\tulip\\20133942640_0f4442b858_n.jpg      tulip\n",
       "3         flowers\\daisy\\20948886919_cac7844f34_n.jpg      daisy\n",
       "4          flowers\\rose\\12323085443_8ac0cdb713_n.jpg       rose\n",
       "...                                              ...        ...\n",
       "4312      flowers\\daisy\\33859244503_eeeca6a397_n.jpg      daisy\n",
       "4313  flowers\\dandelion\\13807932364_673b7f1c1c_n.jpg  dandelion\n",
       "4314      flowers\\tulip\\12916135413_dafcf3089e_n.jpg      tulip\n",
       "4315       flowers\\daisy\\2365428551_39f83f10bf_n.jpg      daisy\n",
       "4316   flowers\\sunflower\\4893660821_eb7f02bef3_n.jpg  sunflower\n",
       "\n",
       "[4317 rows x 2 columns]"
      ]
     },
     "execution_count": 6,
     "metadata": {},
     "output_type": "execute_result"
    }
   ],
   "source": [
    "data = data.sample(frac=1).reset_index(drop=True)"
   ]
  },
  {
   "cell_type": "code",
   "execution_count": 7,
   "id": "f2574807",
   "metadata": {},
   "outputs": [],
   "source": [
    "from sklearn.model_selection import train_test_split"
   ]
  },
  {
   "cell_type": "code",
   "execution_count": 8,
   "id": "85f06d9d",
   "metadata": {},
   "outputs": [
    {
     "data": {
      "text/plain": [
       "((3453, 2), (864, 2))"
      ]
     },
     "execution_count": 8,
     "metadata": {},
     "output_type": "execute_result"
    }
   ],
   "source": [
    "X_train , X_test = train_test_split(data,test_size=0.2,shuffle=True,stratify=data.labels,random_state=17)\n",
    "print(X_train.shape,X_test.shape)"
   ]
  },
  {
   "cell_type": "code",
   "execution_count": 9,
   "id": "b64e4c0f",
   "metadata": {},
   "outputs": [],
   "source": [
    "import seaborn as sns"
   ]
  },
  {
   "cell_type": "code",
   "execution_count": 11,
   "id": "169eae94",
   "metadata": {},
   "outputs": [
    {
     "data": {
      "text/plain": [
       "<AxesSubplot:xlabel='labels', ylabel='count'>"
      ]
     },
     "execution_count": 11,
     "metadata": {},
     "output_type": "execute_result"
    },
    {
     "data": {
      "image/png": "[encoded data removed]",
      "text/plain": [
       "<Figure size 432x288 with 1 Axes>"
      ]
     },
     "metadata": {
      "needs_background": "light"
     },
     "output_type": "display_data"
    }
   ],
   "source": [
    "sns.countplot(data=X_train,x=X_train['labels'])"
   ]
  },
  {
   "cell_type": "code",
   "execution_count": 12,
   "id": "90c9d98c",
   "metadata": {},
   "outputs": [
    {
     "data": {
      "text/plain": [
       "<AxesSubplot:xlabel='labels', ylabel='count'>"
      ]
     },
     "execution_count": 12,
     "metadata": {},
     "output_type": "execute_result"
    },
    {
     "data": {
      "image/png": "[encoded data removed]",
      "text/plain": [
       "<Figure size 432x288 with 1 Axes>"
      ]
     },
     "metadata": {
      "needs_background": "light"
     },
     "output_type": "display_data"
    }
   ],
   "source": [
    "sns.countplot(data=X_test,x=X_test['labels'])"
   ]
  },
  {
   "cell_type": "code",
   "execution_count": 10,
   "id": "cb7e575a",
   "metadata": {},
   "outputs": [],
   "source": [
    "train_datagen = keras.preprocessing.image.ImageDataGenerator(\n",
    "        rescale = 1.0/255,\n",
    "        shear_range = 0.3,\n",
    "        zoom_range = 0.3,\n",
    "        horizontal_flip = True,\n",
    "        vertical_flip = True,\n",
    "        rotation_range = 45,\n",
    "        brightness_range = [0.5,1],\n",
    "        width_shift_range=0.1,\n",
    "        height_shift_range=0.1\n",
    ")\n",
    "\n",
    "test_datagen = keras.preprocessing.image.ImageDataGenerator(\n",
    "        rescale = 1.0/255,\n",
    "        validation_split = 0.4\n",
    ")"
   ]
  },
  {
   "cell_type": "code",
   "execution_count": 11,
   "id": "0a358233",
   "metadata": {},
   "outputs": [
    {
     "name": "stdout",
     "output_type": "stream",
     "text": [
      "Found 3453 validated image filenames belonging to 5 classes.\n",
      "Found 864 validated image filenames belonging to 5 classes.\n",
      "Found 345 validated image filenames belonging to 5 classes.\n"
     ]
    }
   ],
   "source": [
    "train_data = train_datagen.flow_from_dataframe(\n",
    "        dataframe = X_train,\n",
    "        x_col = 'image_path',\n",
    "        y_col = 'labels',\n",
    "        batch_size = 64,\n",
    "        target_size = (150,150),\n",
    "        class_mode = 'categorical',\n",
    "        color_mode = 'rgb',\n",
    "        subset='training'\n",
    ")\n",
    "\n",
    "test_data = test_datagen.flow_from_dataframe(\n",
    "    dataframe = X_test,\n",
    "    x_col = 'image_path',\n",
    "    y_col = 'labels',\n",
    "    batch_size = 64,\n",
    "    target_size = (150,150),\n",
    "    class_mode = 'categorical',\n",
    "    color_mode = 'rgb',\n",
    "    shuffle=False\n",
    ")\n",
    "\n",
    "val_data = test_datagen.flow_from_dataframe(\n",
    "    dataframe = X_test,\n",
    "    x_col = 'image_path',\n",
    "    y_col = 'labels',\n",
    "    batch_size = 64,\n",
    "    target_size = (150,150),\n",
    "    class_mode = 'categorical',\n",
    "    color_mode = 'rgb',\n",
    "    subset = 'validation'\n",
    ")"
   ]
  },
  {
   "cell_type": "code",
   "execution_count": 12,
   "id": "c192c568",
   "metadata": {},
   "outputs": [],
   "source": [
    "opti = keras.optimizers.Adam(learning_rate=0.001)\n",
    "def my_learning_rate(epoch, lrate):\n",
    "    if epoch%7 == 0 and epoch!=0:\n",
    "        lrate = lrate * 0.2\n",
    "    return lrate\n",
    " \n",
    "lrs = keras.callbacks.LearningRateScheduler(my_learning_rate)"
   ]
  },
  {
   "cell_type": "code",
   "execution_count": 13,
   "id": "1c435822",
   "metadata": {},
   "outputs": [
    {
     "name": "stdout",
     "output_type": "stream",
     "text": [
      "Model: \"sequential\"\n",
      "_________________________________________________________________\n",
      "Layer (type)                 Output Shape              Param #   \n",
      "=================================================================\n",
      "conv2d (Conv2D)              (None, 150, 150, 16)      448       \n",
      "_________________________________________________________________\n",
      "conv2d_1 (Conv2D)            (None, 150, 150, 16)      2320      \n",
      "_________________________________________________________________\n",
      "max_pooling2d (MaxPooling2D) (None, 75, 75, 16)        0         \n",
      "_________________________________________________________________\n",
      "conv2d_2 (Conv2D)            (None, 75, 75, 32)        4640      \n",
      "_________________________________________________________________\n",
      "conv2d_3 (Conv2D)            (None, 75, 75, 32)        9248      \n",
      "_________________________________________________________________\n",
      "max_pooling2d_1 (MaxPooling2 (None, 37, 37, 32)        0         \n",
      "_________________________________________________________________\n",
      "conv2d_4 (Conv2D)            (None, 37, 37, 64)        18496     \n",
      "_________________________________________________________________\n",
      "conv2d_5 (Conv2D)            (None, 37, 37, 64)        36928     \n",
      "_________________________________________________________________\n",
      "max_pooling2d_2 (MaxPooling2 (None, 18, 18, 64)        0         \n",
      "_________________________________________________________________\n",
      "conv2d_6 (Conv2D)            (None, 18, 18, 128)       73856     \n",
      "_________________________________________________________________\n",
      "conv2d_7 (Conv2D)            (None, 18, 18, 128)       147584    \n",
      "_________________________________________________________________\n",
      "max_pooling2d_3 (MaxPooling2 (None, 9, 9, 128)         0         \n",
      "_________________________________________________________________\n",
      "flatten (Flatten)            (None, 10368)             0         \n",
      "_________________________________________________________________\n",
      "dense (Dense)                (None, 128)               1327232   \n",
      "_________________________________________________________________\n",
      "dropout (Dropout)            (None, 128)               0         \n",
      "_________________________________________________________________\n",
      "dense_1 (Dense)              (None, 320)               41280     \n",
      "_________________________________________________________________\n",
      "dropout_1 (Dropout)          (None, 320)               0         \n",
      "_________________________________________________________________\n",
      "dense_2 (Dense)              (None, 5)                 1605      \n",
      "=================================================================\n",
      "Total params: 1,663,637\n",
      "Trainable params: 1,663,637\n",
      "Non-trainable params: 0\n",
      "_________________________________________________________________\n"
     ]
    }
   ],
   "source": [
    "model = keras.Sequential([\n",
    "    keras.layers.Conv2D(16,(3,3),activation='relu',padding='same',input_shape=(150,150,3)),\n",
    "    keras.layers.Conv2D(16,(3,3),activation='relu',padding='same'),\n",
    "    keras.layers.MaxPooling2D(2,2),\n",
    "    \n",
    "    keras.layers.Conv2D(32,(3,3),activation='relu',padding='same'),\n",
    "    keras.layers.Conv2D(32,(3,3),activation='relu',padding='same'),\n",
    "    keras.layers.MaxPooling2D(2,2),\n",
    "    \n",
    "    keras.layers.Conv2D(64,(3,3),activation='relu',padding='same'),\n",
    "    keras.layers.Conv2D(64,(3,3),activation='relu',padding='same'),\n",
    "    keras.layers.MaxPooling2D(2,2),\n",
    "    \n",
    "    keras.layers.Conv2D(128,(3,3),activation='relu',padding='same'),\n",
    "    keras.layers.Conv2D(128,(3,3),activation='relu',padding='same'),\n",
    "    keras.layers.MaxPooling2D(2,2),\n",
    "    \n",
    "    \n",
    "    keras.layers.Flatten(),\n",
    "    keras.layers.Dense(128,activation = 'relu'),\n",
    "    keras.layers.Dropout(0.4),\n",
    "    keras.layers.Dense(320,activation = 'relu'),\n",
    "    keras.layers.Dropout(0.4),\n",
    "    keras.layers.Dense(5,activation = 'softmax')\n",
    "])\n",
    "\n",
    "model.compile(optimizer = opti,loss='categorical_crossentropy',metrics=['accuracy'])\n",
    "\n",
    "model.summary()"
   ]
  },
  {
   "cell_type": "code",
   "execution_count": 14,
   "id": "48162f0f",
   "metadata": {},
   "outputs": [
    {
     "name": "stdout",
     "output_type": "stream",
     "text": [
      "Epoch 1/50\n",
      "54/54 [==============================] - 35s 405ms/step - loss: 1.6044 - accuracy: 0.2381 - val_loss: 1.5980 - val_accuracy: 0.2435\n",
      "Epoch 2/50\n",
      "54/54 [==============================] - 17s 306ms/step - loss: 1.5997 - accuracy: 0.2349 - val_loss: 1.5975 - val_accuracy: 0.2435\n",
      "Epoch 3/50\n",
      "54/54 [==============================] - 17s 312ms/step - loss: 1.5968 - accuracy: 0.2389 - val_loss: 1.5865 - val_accuracy: 0.3101\n",
      "Epoch 4/50\n",
      "54/54 [==============================] - 17s 305ms/step - loss: 1.5523 - accuracy: 0.2858 - val_loss: 1.5083 - val_accuracy: 0.3275\n",
      "Epoch 5/50\n",
      "54/54 [==============================] - 17s 311ms/step - loss: 1.4203 - accuracy: 0.3611 - val_loss: 1.4803 - val_accuracy: 0.3391\n",
      "Epoch 6/50\n",
      "54/54 [==============================] - 19s 355ms/step - loss: 1.3141 - accuracy: 0.4078 - val_loss: 1.3837 - val_accuracy: 0.4203\n",
      "Epoch 7/50\n",
      "54/54 [==============================] - 17s 314ms/step - loss: 1.2256 - accuracy: 0.4732 - val_loss: 1.3046 - val_accuracy: 0.4000\n",
      "Epoch 8/50\n",
      "54/54 [==============================] - 19s 346ms/step - loss: 1.1811 - accuracy: 0.4909 - val_loss: 1.2389 - val_accuracy: 0.4696\n",
      "Epoch 9/50\n",
      "54/54 [==============================] - 17s 318ms/step - loss: 1.1337 - accuracy: 0.5080 - val_loss: 1.2052 - val_accuracy: 0.4986\n",
      "Epoch 10/50\n",
      "54/54 [==============================] - 17s 317ms/step - loss: 1.1280 - accuracy: 0.5204 - val_loss: 1.1690 - val_accuracy: 0.5217\n",
      "Epoch 11/50\n",
      "54/54 [==============================] - 17s 314ms/step - loss: 1.0763 - accuracy: 0.5514 - val_loss: 1.1376 - val_accuracy: 0.5594\n",
      "Epoch 12/50\n",
      "54/54 [==============================] - 17s 306ms/step - loss: 1.0457 - accuracy: 0.5618 - val_loss: 1.1555 - val_accuracy: 0.5507\n",
      "Epoch 13/50\n",
      "54/54 [==============================] - 17s 318ms/step - loss: 1.0359 - accuracy: 0.5725 - val_loss: 1.0904 - val_accuracy: 0.5826\n",
      "Epoch 14/50\n",
      "54/54 [==============================] - 17s 306ms/step - loss: 0.9996 - accuracy: 0.5937 - val_loss: 1.0836 - val_accuracy: 0.5681\n",
      "Epoch 15/50\n",
      "54/54 [==============================] - 17s 315ms/step - loss: 0.9773 - accuracy: 0.6079 - val_loss: 1.0607 - val_accuracy: 0.5913\n",
      "Epoch 16/50\n",
      "54/54 [==============================] - 17s 305ms/step - loss: 0.9644 - accuracy: 0.6134 - val_loss: 1.0561 - val_accuracy: 0.6319\n",
      "Epoch 17/50\n",
      "54/54 [==============================] - 17s 315ms/step - loss: 0.9713 - accuracy: 0.6128 - val_loss: 1.0553 - val_accuracy: 0.6087\n",
      "Epoch 18/50\n",
      "54/54 [==============================] - 17s 305ms/step - loss: 0.9432 - accuracy: 0.6235 - val_loss: 1.0487 - val_accuracy: 0.6435\n",
      "Epoch 19/50\n",
      "54/54 [==============================] - 17s 307ms/step - loss: 0.9430 - accuracy: 0.6212 - val_loss: 1.0505 - val_accuracy: 0.6435\n",
      "Epoch 20/50\n",
      "54/54 [==============================] - 16s 303ms/step - loss: 0.9360 - accuracy: 0.6287 - val_loss: 1.0422 - val_accuracy: 0.6348\n",
      "Epoch 21/50\n",
      "54/54 [==============================] - 17s 316ms/step - loss: 0.9409 - accuracy: 0.6215 - val_loss: 1.0604 - val_accuracy: 0.6377\n",
      "Epoch 22/50\n",
      "54/54 [==============================] - 17s 312ms/step - loss: 0.9353 - accuracy: 0.6247 - val_loss: 1.0389 - val_accuracy: 0.6435\n",
      "Epoch 23/50\n",
      "54/54 [==============================] - 17s 313ms/step - loss: 0.9363 - accuracy: 0.6261 - val_loss: 1.0416 - val_accuracy: 0.6435\n",
      "Epoch 24/50\n",
      "54/54 [==============================] - 17s 304ms/step - loss: 0.9220 - accuracy: 0.6287 - val_loss: 1.0399 - val_accuracy: 0.6406\n",
      "Epoch 25/50\n",
      "54/54 [==============================] - 17s 314ms/step - loss: 0.9293 - accuracy: 0.6241 - val_loss: 1.0364 - val_accuracy: 0.6464\n",
      "Epoch 26/50\n",
      "54/54 [==============================] - 17s 305ms/step - loss: 0.9220 - accuracy: 0.6258 - val_loss: 1.0389 - val_accuracy: 0.6435\n",
      "Epoch 27/50\n",
      "54/54 [==============================] - 17s 314ms/step - loss: 0.9219 - accuracy: 0.6331 - val_loss: 1.0368 - val_accuracy: 0.6377\n",
      "Epoch 28/50\n",
      "54/54 [==============================] - 16s 304ms/step - loss: 0.9186 - accuracy: 0.6400 - val_loss: 1.0387 - val_accuracy: 0.6377\n",
      "Epoch 29/50\n",
      "54/54 [==============================] - 17s 315ms/step - loss: 0.9171 - accuracy: 0.6429 - val_loss: 1.0373 - val_accuracy: 0.6435\n",
      "Epoch 30/50\n",
      "54/54 [==============================] - 17s 305ms/step - loss: 0.9261 - accuracy: 0.6325 - val_loss: 1.0369 - val_accuracy: 0.6435\n",
      "Epoch 31/50\n",
      "54/54 [==============================] - 17s 313ms/step - loss: 0.9165 - accuracy: 0.6392 - val_loss: 1.0366 - val_accuracy: 0.6377\n",
      "Epoch 32/50\n",
      "54/54 [==============================] - 16s 304ms/step - loss: 0.9081 - accuracy: 0.6354 - val_loss: 1.0367 - val_accuracy: 0.6377\n",
      "Epoch 33/50\n",
      "54/54 [==============================] - 17s 314ms/step - loss: 0.9266 - accuracy: 0.6394 - val_loss: 1.0362 - val_accuracy: 0.6377\n",
      "Epoch 34/50\n",
      "54/54 [==============================] - 16s 304ms/step - loss: 0.9249 - accuracy: 0.6281 - val_loss: 1.0361 - val_accuracy: 0.6406\n",
      "Epoch 35/50\n",
      "54/54 [==============================] - 17s 314ms/step - loss: 0.9248 - accuracy: 0.6447 - val_loss: 1.0353 - val_accuracy: 0.6377\n",
      "Epoch 36/50\n",
      "54/54 [==============================] - 17s 305ms/step - loss: 0.9165 - accuracy: 0.6435 - val_loss: 1.0354 - val_accuracy: 0.6377\n",
      "Epoch 37/50\n",
      "54/54 [==============================] - 17s 313ms/step - loss: 0.9259 - accuracy: 0.6363 - val_loss: 1.0356 - val_accuracy: 0.6377\n",
      "Epoch 38/50\n",
      "54/54 [==============================] - 19s 350ms/step - loss: 0.9233 - accuracy: 0.6371 - val_loss: 1.0356 - val_accuracy: 0.6377\n",
      "Epoch 39/50\n",
      "54/54 [==============================] - 17s 315ms/step - loss: 0.9190 - accuracy: 0.6397 - val_loss: 1.0354 - val_accuracy: 0.6377\n",
      "Epoch 40/50\n",
      "54/54 [==============================] - 17s 305ms/step - loss: 0.9189 - accuracy: 0.6281 - val_loss: 1.0352 - val_accuracy: 0.6406\n",
      "Epoch 41/50\n",
      "54/54 [==============================] - 17s 317ms/step - loss: 0.9209 - accuracy: 0.6429 - val_loss: 1.0350 - val_accuracy: 0.6406\n",
      "Epoch 42/50\n",
      "54/54 [==============================] - 16s 304ms/step - loss: 0.9146 - accuracy: 0.6426 - val_loss: 1.0352 - val_accuracy: 0.6406\n",
      "Epoch 43/50\n",
      "54/54 [==============================] - 17s 312ms/step - loss: 0.9190 - accuracy: 0.6394 - val_loss: 1.0351 - val_accuracy: 0.6406\n",
      "Epoch 44/50\n",
      "54/54 [==============================] - 17s 305ms/step - loss: 0.9183 - accuracy: 0.6426 - val_loss: 1.0351 - val_accuracy: 0.6406\n",
      "Epoch 45/50\n",
      "54/54 [==============================] - 17s 314ms/step - loss: 0.9076 - accuracy: 0.6435 - val_loss: 1.0351 - val_accuracy: 0.6406\n",
      "Epoch 46/50\n",
      "54/54 [==============================] - 18s 328ms/step - loss: 0.9280 - accuracy: 0.6255 - val_loss: 1.0351 - val_accuracy: 0.6406\n",
      "Epoch 47/50\n",
      "54/54 [==============================] - 17s 314ms/step - loss: 0.9193 - accuracy: 0.6487 - val_loss: 1.0351 - val_accuracy: 0.6406\n",
      "Epoch 48/50\n",
      "54/54 [==============================] - 17s 307ms/step - loss: 0.9278 - accuracy: 0.6328 - val_loss: 1.0351 - val_accuracy: 0.6406\n",
      "Epoch 49/50\n",
      "54/54 [==============================] - 17s 318ms/step - loss: 0.9127 - accuracy: 0.6386 - val_loss: 1.0351 - val_accuracy: 0.6406\n",
      "Epoch 50/50\n",
      "54/54 [==============================] - 17s 306ms/step - loss: 0.9120 - accuracy: 0.6470 - val_loss: 1.0351 - val_accuracy: 0.6406\n"
     ]
    }
   ],
   "source": [
    "cnn_model = model.fit(train_data,epochs=50,steps_per_epoch=54,validation_data=val_data,validation_steps=6,callbacks=[lrs])"
   ]
  },
  {
   "cell_type": "code",
   "execution_count": 16,
   "id": "4c0ab876",
   "metadata": {},
   "outputs": [
    {
     "name": "stdout",
     "output_type": "stream",
     "text": [
      "INFO:tensorflow:Assets written to: 5_layer_cnn\\assets\n"
     ]
    }
   ],
   "source": [
    "model.save('scratch_cnn')"
   ]
  },
  {
   "cell_type": "code",
   "execution_count": null,
   "id": "cff91bec",
   "metadata": {},
   "outputs": [],
   "source": []
  },
  {
   "cell_type": "code",
   "execution_count": 18,
   "id": "1b4b8f80",
   "metadata": {},
   "outputs": [
    {
     "data": {
      "image/png": "[encoded data removed]",
      "text/plain": [
       "<Figure size 720x432 with 1 Axes>"
      ]
     },
     "metadata": {
      "needs_background": "light"
     },
     "output_type": "display_data"
    }
   ],
   "source": [
    "epochs = range(1, 51)\n",
    "plt.figure(figsize=(10,6))\n",
    "plt.plot(epochs, cnn_model.history['loss'], label='Train Loss')\n",
    "plt.plot(epochs, cnn_model.history['val_loss'], label='Val Loss')\n",
    "plt.plot(epochs, cnn_model.history['accuracy'], label='Train Acc')\n",
    "plt.plot(epochs, cnn_model.history['val_accuracy'], label='Val Acc')\n",
    "plt.xlabel('Epochs')\n",
    "plt.title('CNN-5-Layer-Model')\n",
    "plt.grid()\n",
    "plt.legend()\n",
    "\n",
    "plt.savefig('cnn_5_layer.jpg',dpi=500)\n",
    "plt.show()"
   ]
  },
  {
   "cell_type": "code",
   "execution_count": null,
   "id": "f3e570d8",
   "metadata": {},
   "outputs": [],
   "source": []
  }
 ],
 "metadata": {
  "kernelspec": {
   "display_name": "Python 3 (ipykernel)",
   "language": "python",
   "name": "python3"
  },
  "language_info": {
   "codemirror_mode": {
    "name": "ipython",
    "version": 3
   },
   "file_extension": ".py",
   "mimetype": "text/x-python",
   "name": "python",
   "nbconvert_exporter": "python",
   "pygments_lexer": "ipython3",
   "version": "3.9.6"
  }
 },
 "nbformat": 4,
 "nbformat_minor": 5
}
