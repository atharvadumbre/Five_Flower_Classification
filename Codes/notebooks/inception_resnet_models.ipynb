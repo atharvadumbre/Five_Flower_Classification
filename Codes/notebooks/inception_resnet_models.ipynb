{
 "cells": [
  {
   "cell_type": "code",
   "execution_count": 1,
   "id": "341d36a0",
   "metadata": {},
   "outputs": [],
   "source": [
    "import numpy as np\n",
    "import pandas as pd\n",
    "import matplotlib.pyplot as plt\n",
    "import tensorflow as tf\n",
    "from tensorflow import keras\n",
    "from pathlib import Path\n",
    "import glob\n",
    "import os\n",
    "import os.path\n",
    "from sklearn.model_selection import train_test_split"
   ]
  },
  {
   "cell_type": "code",
   "execution_count": 2,
   "id": "53b96e30",
   "metadata": {},
   "outputs": [],
   "source": [
    "path = Path('flowers')\n",
    "images = list(path.glob(r'*/*.jpg'))\n",
    "labels = list(map(lambda x:os.path.split(os.path.split(x)[0])[1],images))\n",
    "\n",
    "\n",
    "images_series = pd.Series(images,name='image_path').astype(str)\n",
    "labels_series = pd.Series(labels,name='labels')\n",
    "\n",
    "data = pd.concat([images_series,labels_series],axis=1)\n",
    "\n",
    "data = data.sample(frac=1).reset_index(drop=True)\n",
    "\n",
    "X_train , X_test = train_test_split(data,test_size=0.2,shuffle=True,stratify=data.labels,random_state=17)"
   ]
  },
  {
   "cell_type": "code",
   "execution_count": 3,
   "id": "44aa141e",
   "metadata": {},
   "outputs": [
    {
     "name": "stdout",
     "output_type": "stream",
     "text": [
      "Found 3453 validated image filenames belonging to 5 classes.\n",
      "Found 864 validated image filenames belonging to 5 classes.\n",
      "Found 345 validated image filenames belonging to 5 classes.\n"
     ]
    }
   ],
   "source": [
    "train_datagen = keras.preprocessing.image.ImageDataGenerator(\n",
    "        rescale = 1.0/255,\n",
    "        shear_range = 0.3,\n",
    "        zoom_range = 0.3,\n",
    "        horizontal_flip = True,\n",
    "        vertical_flip = True,\n",
    "        rotation_range = 45,\n",
    "        brightness_range = [0.5,1],\n",
    "        width_shift_range=0.1,\n",
    "        height_shift_range=0.1\n",
    ")\n",
    "\n",
    "test_datagen = keras.preprocessing.image.ImageDataGenerator(\n",
    "        rescale = 1.0/255,\n",
    "        validation_split = 0.4\n",
    ")\n",
    "\n",
    "\n",
    "train_data = train_datagen.flow_from_dataframe(\n",
    "        dataframe = X_train,\n",
    "        x_col = 'image_path',\n",
    "        y_col = 'labels',\n",
    "        batch_size = 64,\n",
    "        target_size = (150,150),\n",
    "        class_mode = 'categorical',\n",
    "        color_mode = 'rgb',\n",
    "        subset='training'\n",
    ")\n",
    "\n",
    "test_data = test_datagen.flow_from_dataframe(\n",
    "    dataframe = X_test,\n",
    "    x_col = 'image_path',\n",
    "    y_col = 'labels',\n",
    "    batch_size = 64,\n",
    "    target_size = (150,150),\n",
    "    class_mode = 'categorical',\n",
    "    color_mode = 'rgb',\n",
    "    shuffle=False\n",
    ")\n",
    "\n",
    "val_data = test_datagen.flow_from_dataframe(\n",
    "    dataframe = X_test,\n",
    "    x_col = 'image_path',\n",
    "    y_col = 'labels',\n",
    "    batch_size = 64,\n",
    "    target_size = (150,150),\n",
    "    class_mode = 'categorical',\n",
    "    color_mode = 'rgb',\n",
    "    subset = 'validation'\n",
    ")\n"
   ]
  },
  {
   "cell_type": "code",
   "execution_count": 4,
   "id": "4ce4b206",
   "metadata": {},
   "outputs": [],
   "source": [
    "from tensorflow.keras.callbacks import ReduceLROnPlateau\n",
    "reduce_lr = ReduceLROnPlateau(\n",
    "    monitor='val_loss', \n",
    "    factor=0.2,   \n",
    "    patience=2, \n",
    "    min_lr=0.01,\n",
    "    verbose=2\n",
    ")"
   ]
  },
  {
   "cell_type": "code",
   "execution_count": 13,
   "id": "340e42b3",
   "metadata": {},
   "outputs": [
    {
     "name": "stdout",
     "output_type": "stream",
     "text": [
      "Epoch 1/50\n",
      "54/54 [==============================] - 19s 320ms/step - loss: 7.5916 - accuracy: 0.4900 - val_loss: 0.7907 - val_accuracy: 0.7130\n",
      "Epoch 2/50\n",
      "54/54 [==============================] - 16s 300ms/step - loss: 0.7352 - accuracy: 0.7275 - val_loss: 0.5859 - val_accuracy: 0.7913\n",
      "Epoch 3/50\n",
      "54/54 [==============================] - 16s 300ms/step - loss: 0.6406 - accuracy: 0.7669 - val_loss: 0.5525 - val_accuracy: 0.8203\n",
      "Epoch 4/50\n",
      "54/54 [==============================] - 16s 301ms/step - loss: 0.5983 - accuracy: 0.7842 - val_loss: 0.5319 - val_accuracy: 0.8261\n",
      "Epoch 5/50\n",
      "54/54 [==============================] - 16s 300ms/step - loss: 0.5768 - accuracy: 0.7918 - val_loss: 0.5767 - val_accuracy: 0.8029\n",
      "Epoch 6/50\n",
      "54/54 [==============================] - 16s 302ms/step - loss: 0.5090 - accuracy: 0.8167 - val_loss: 0.4770 - val_accuracy: 0.8290\n",
      "Epoch 7/50\n",
      "54/54 [==============================] - 16s 302ms/step - loss: 0.4860 - accuracy: 0.8199 - val_loss: 0.4703 - val_accuracy: 0.8435\n",
      "Epoch 8/50\n",
      "54/54 [==============================] - 16s 299ms/step - loss: 0.4789 - accuracy: 0.8242 - val_loss: 0.4529 - val_accuracy: 0.8435\n",
      "Epoch 9/50\n",
      "54/54 [==============================] - 16s 301ms/step - loss: 0.4805 - accuracy: 0.8196 - val_loss: 0.4530 - val_accuracy: 0.8464\n",
      "Epoch 10/50\n",
      "54/54 [==============================] - 16s 302ms/step - loss: 0.4774 - accuracy: 0.8291 - val_loss: 0.4502 - val_accuracy: 0.8377\n",
      "Epoch 11/50\n",
      "54/54 [==============================] - 16s 302ms/step - loss: 0.4550 - accuracy: 0.8367 - val_loss: 0.4386 - val_accuracy: 0.8522\n",
      "Epoch 12/50\n",
      "54/54 [==============================] - 16s 301ms/step - loss: 0.4547 - accuracy: 0.8303 - val_loss: 0.4434 - val_accuracy: 0.8551\n",
      "Epoch 13/50\n",
      "54/54 [==============================] - 16s 304ms/step - loss: 0.4430 - accuracy: 0.8332 - val_loss: 0.4463 - val_accuracy: 0.8464\n",
      "Epoch 14/50\n",
      "54/54 [==============================] - 16s 300ms/step - loss: 0.4457 - accuracy: 0.8390 - val_loss: 0.4514 - val_accuracy: 0.8522\n",
      "Epoch 15/50\n",
      "54/54 [==============================] - 16s 301ms/step - loss: 0.4490 - accuracy: 0.8332 - val_loss: 0.4395 - val_accuracy: 0.8551\n",
      "Epoch 16/50\n",
      "54/54 [==============================] - 16s 300ms/step - loss: 0.4403 - accuracy: 0.8352 - val_loss: 0.4425 - val_accuracy: 0.8493\n",
      "Epoch 17/50\n",
      "54/54 [==============================] - 16s 303ms/step - loss: 0.4371 - accuracy: 0.8448 - val_loss: 0.4425 - val_accuracy: 0.8493\n",
      "Epoch 18/50\n",
      "54/54 [==============================] - 16s 302ms/step - loss: 0.4331 - accuracy: 0.8459 - val_loss: 0.4417 - val_accuracy: 0.8522\n",
      "Epoch 19/50\n",
      "54/54 [==============================] - 16s 300ms/step - loss: 0.4321 - accuracy: 0.8445 - val_loss: 0.4442 - val_accuracy: 0.8522\n",
      "Epoch 20/50\n",
      "54/54 [==============================] - 16s 302ms/step - loss: 0.4498 - accuracy: 0.8384 - val_loss: 0.4428 - val_accuracy: 0.8551\n",
      "Epoch 21/50\n",
      "54/54 [==============================] - 16s 301ms/step - loss: 0.4248 - accuracy: 0.8436 - val_loss: 0.4431 - val_accuracy: 0.8551\n",
      "Epoch 22/50\n",
      "54/54 [==============================] - 16s 303ms/step - loss: 0.4412 - accuracy: 0.8401 - val_loss: 0.4436 - val_accuracy: 0.8522\n",
      "Epoch 23/50\n",
      "54/54 [==============================] - 16s 302ms/step - loss: 0.4308 - accuracy: 0.8378 - val_loss: 0.4434 - val_accuracy: 0.8522\n",
      "Epoch 24/50\n",
      "54/54 [==============================] - 16s 300ms/step - loss: 0.4335 - accuracy: 0.8445 - val_loss: 0.4431 - val_accuracy: 0.8522\n",
      "Epoch 25/50\n",
      "54/54 [==============================] - 16s 303ms/step - loss: 0.4214 - accuracy: 0.8471 - val_loss: 0.4427 - val_accuracy: 0.8493\n",
      "Epoch 26/50\n",
      "54/54 [==============================] - 17s 307ms/step - loss: 0.4309 - accuracy: 0.8436 - val_loss: 0.4427 - val_accuracy: 0.8493\n",
      "Epoch 27/50\n",
      "54/54 [==============================] - 17s 307ms/step - loss: 0.4253 - accuracy: 0.8491 - val_loss: 0.4429 - val_accuracy: 0.8493\n",
      "Epoch 28/50\n",
      "54/54 [==============================] - 17s 308ms/step - loss: 0.4394 - accuracy: 0.8416 - val_loss: 0.4428 - val_accuracy: 0.8493\n",
      "Epoch 29/50\n",
      "54/54 [==============================] - 17s 306ms/step - loss: 0.4563 - accuracy: 0.8352 - val_loss: 0.4428 - val_accuracy: 0.8493\n",
      "Epoch 30/50\n",
      "54/54 [==============================] - 16s 302ms/step - loss: 0.4361 - accuracy: 0.8404 - val_loss: 0.4427 - val_accuracy: 0.8493\n",
      "Epoch 31/50\n",
      "54/54 [==============================] - 16s 304ms/step - loss: 0.4311 - accuracy: 0.8375 - val_loss: 0.4427 - val_accuracy: 0.8493\n",
      "Epoch 32/50\n",
      "54/54 [==============================] - 16s 301ms/step - loss: 0.4346 - accuracy: 0.8448 - val_loss: 0.4428 - val_accuracy: 0.8493\n",
      "Epoch 33/50\n",
      "54/54 [==============================] - 16s 300ms/step - loss: 0.4338 - accuracy: 0.8459 - val_loss: 0.4428 - val_accuracy: 0.8493\n",
      "Epoch 34/50\n",
      "54/54 [==============================] - 16s 305ms/step - loss: 0.4400 - accuracy: 0.8378 - val_loss: 0.4428 - val_accuracy: 0.8493\n",
      "Epoch 35/50\n",
      "54/54 [==============================] - 16s 305ms/step - loss: 0.4333 - accuracy: 0.8367 - val_loss: 0.4428 - val_accuracy: 0.8493\n",
      "Epoch 36/50\n",
      "54/54 [==============================] - 16s 304ms/step - loss: 0.4481 - accuracy: 0.8384 - val_loss: 0.4428 - val_accuracy: 0.8493\n",
      "Epoch 37/50\n",
      "54/54 [==============================] - 16s 300ms/step - loss: 0.4424 - accuracy: 0.8355 - val_loss: 0.4428 - val_accuracy: 0.8493\n",
      "Epoch 38/50\n",
      "54/54 [==============================] - 16s 299ms/step - loss: 0.4390 - accuracy: 0.8485 - val_loss: 0.4428 - val_accuracy: 0.8493\n",
      "Epoch 39/50\n",
      "54/54 [==============================] - 16s 300ms/step - loss: 0.4444 - accuracy: 0.8341 - val_loss: 0.4428 - val_accuracy: 0.8493\n",
      "Epoch 40/50\n",
      "54/54 [==============================] - 17s 306ms/step - loss: 0.4427 - accuracy: 0.8323 - val_loss: 0.4428 - val_accuracy: 0.8493\n",
      "Epoch 41/50\n",
      "54/54 [==============================] - 16s 304ms/step - loss: 0.4422 - accuracy: 0.8355 - val_loss: 0.4428 - val_accuracy: 0.8493\n",
      "Epoch 42/50\n",
      "54/54 [==============================] - 16s 302ms/step - loss: 0.4327 - accuracy: 0.8401 - val_loss: 0.4428 - val_accuracy: 0.8493\n",
      "Epoch 43/50\n",
      "54/54 [==============================] - 16s 301ms/step - loss: 0.4383 - accuracy: 0.8381 - val_loss: 0.4428 - val_accuracy: 0.8493\n",
      "Epoch 44/50\n",
      "54/54 [==============================] - 16s 300ms/step - loss: 0.4340 - accuracy: 0.8398 - val_loss: 0.4428 - val_accuracy: 0.8493\n",
      "Epoch 45/50\n",
      "54/54 [==============================] - 16s 300ms/step - loss: 0.4416 - accuracy: 0.8390 - val_loss: 0.4428 - val_accuracy: 0.8493\n",
      "Epoch 46/50\n",
      "54/54 [==============================] - 16s 300ms/step - loss: 0.4432 - accuracy: 0.8401 - val_loss: 0.4428 - val_accuracy: 0.8493\n",
      "Epoch 47/50\n",
      "54/54 [==============================] - 16s 300ms/step - loss: 0.4354 - accuracy: 0.8404 - val_loss: 0.4428 - val_accuracy: 0.8493\n",
      "Epoch 48/50\n",
      "54/54 [==============================] - 16s 301ms/step - loss: 0.4467 - accuracy: 0.8361 - val_loss: 0.4428 - val_accuracy: 0.8493\n",
      "Epoch 49/50\n",
      "54/54 [==============================] - 16s 301ms/step - loss: 0.4327 - accuracy: 0.8361 - val_loss: 0.4428 - val_accuracy: 0.8493\n",
      "Epoch 50/50\n",
      "54/54 [==============================] - 16s 301ms/step - loss: 0.4373 - accuracy: 0.8384 - val_loss: 0.4428 - val_accuracy: 0.8493\n"
     ]
    }
   ],
   "source": [
    "opti = keras.optimizers.Adam(learning_rate=0.01)\n",
    "def my_learning_rate(epoch, lrate):\n",
    "    if epoch%5 == 0 and epoch!=0:\n",
    "        lrate = lrate * 0.2\n",
    "    return lrate\n",
    " \n",
    "lrs = keras.callbacks.LearningRateScheduler(my_learning_rate)\n",
    "inception_v3 = keras.applications.inception_v3.InceptionV3(weights='imagenet',include_top=False)\n",
    "\n",
    "x = inception_v3.output\n",
    "x = keras.layers.GlobalAveragePooling2D()(x)\n",
    "x = keras.layers.Dense(512, activation='relu')(x)\n",
    "predictions = keras.layers.Dense(5, activation='softmax')(x)\n",
    "\n",
    "inception_v3_model = keras.models.Model(inputs=inception_v3.input, outputs=predictions)\n",
    "\n",
    "for layer in inception_v3.layers:\n",
    "    layer.trainable = False\n",
    "    \n",
    "inception_v3_model.compile(optimizer = opti,loss='categorical_crossentropy',metrics=['accuracy'])\n",
    "\n",
    "inception_v3_history = inception_v3_model.fit(train_data,epochs=50,steps_per_epoch=54,validation_data=val_data,validation_steps=6,callbacks=[lrs])"
   ]
  },
  {
   "cell_type": "code",
   "execution_count": 18,
   "id": "98b317a7",
   "metadata": {},
   "outputs": [
    {
     "name": "stdout",
     "output_type": "stream",
     "text": [
      "INFO:tensorflow:Assets written to: inception_v3_model\\assets\n"
     ]
    }
   ],
   "source": [
    "inception_v3_model.save('inception_v3_model')"
   ]
  },
  {
   "cell_type": "code",
   "execution_count": 15,
   "id": "b7e7862f",
   "metadata": {},
   "outputs": [
    {
     "data": {
      "image/png": "[encoded data removed]",
      "text/plain": [
       "<Figure size 720x432 with 1 Axes>"
      ]
     },
     "metadata": {
      "needs_background": "light"
     },
     "output_type": "display_data"
    }
   ],
   "source": [
    "epochs = range(1, 51)\n",
    "plt.figure(figsize=(10,6))\n",
    "plt.plot(epochs, inception_v3_history.history['loss'], label='Train Loss')\n",
    "plt.plot(epochs, inception_v3_history.history['val_loss'], label='Val Loss')\n",
    "plt.plot(epochs, inception_v3_history.history['accuracy'], label='Train Acc')\n",
    "plt.plot(epochs, inception_v3_history.history['val_accuracy'], label='Val Acc')\n",
    "plt.xlabel('Epochs')\n",
    "plt.title('Inception_V3')\n",
    "plt.grid()\n",
    "plt.legend()\n",
    "\n",
    "plt.savefig('Inception_V3_plot.jpg',dpi=500)\n",
    "plt.show()"
   ]
  },
  {
   "cell_type": "markdown",
   "id": "e56e8736",
   "metadata": {},
   "source": [
    "# RESNET MODEL"
   ]
  },
  {
   "cell_type": "code",
   "execution_count": 10,
   "id": "120c6016",
   "metadata": {},
   "outputs": [
    {
     "name": "stdout",
     "output_type": "stream",
     "text": [
      "Epoch 1/50\n",
      "54/54 [==============================] - 23s 345ms/step - loss: 1.7622 - accuracy: 0.6612 - val_loss: 0.5020 - val_accuracy: 0.8319\n",
      "Epoch 2/50\n",
      "54/54 [==============================] - 17s 317ms/step - loss: 0.6025 - accuracy: 0.7712 - val_loss: 0.4688 - val_accuracy: 0.8609\n",
      "Epoch 3/50\n",
      "54/54 [==============================] - 17s 319ms/step - loss: 0.5367 - accuracy: 0.8045 - val_loss: 0.4668 - val_accuracy: 0.8435\n",
      "Epoch 4/50\n",
      "54/54 [==============================] - 17s 320ms/step - loss: 0.4756 - accuracy: 0.8233 - val_loss: 0.4045 - val_accuracy: 0.8725\n",
      "Epoch 5/50\n",
      "54/54 [==============================] - 18s 322ms/step - loss: 0.4339 - accuracy: 0.8448 - val_loss: 0.4134 - val_accuracy: 0.8725\n",
      "Epoch 6/50\n",
      "54/54 [==============================] - 18s 325ms/step - loss: 0.4216 - accuracy: 0.8436 - val_loss: 0.4175 - val_accuracy: 0.8667\n",
      "Epoch 7/50\n",
      "54/54 [==============================] - 18s 326ms/step - loss: 0.4067 - accuracy: 0.8494 - val_loss: 0.4057 - val_accuracy: 0.8667\n",
      "Epoch 8/50\n",
      "54/54 [==============================] - 18s 325ms/step - loss: 0.3611 - accuracy: 0.8677 - val_loss: 0.4061 - val_accuracy: 0.8667\n",
      "Epoch 9/50\n",
      "54/54 [==============================] - 18s 327ms/step - loss: 0.3736 - accuracy: 0.8668 - val_loss: 0.4059 - val_accuracy: 0.8667\n",
      "Epoch 10/50\n",
      "54/54 [==============================] - 18s 328ms/step - loss: 0.3712 - accuracy: 0.8604 - val_loss: 0.4018 - val_accuracy: 0.8638\n",
      "Epoch 11/50\n",
      "54/54 [==============================] - 18s 325ms/step - loss: 0.3656 - accuracy: 0.8619 - val_loss: 0.4011 - val_accuracy: 0.8638\n",
      "Epoch 12/50\n",
      "54/54 [==============================] - 18s 331ms/step - loss: 0.3691 - accuracy: 0.8636 - val_loss: 0.3988 - val_accuracy: 0.8667\n",
      "Epoch 13/50\n",
      "54/54 [==============================] - 18s 326ms/step - loss: 0.3699 - accuracy: 0.8624 - val_loss: 0.3986 - val_accuracy: 0.8667\n",
      "Epoch 14/50\n",
      "54/54 [==============================] - 18s 328ms/step - loss: 0.3558 - accuracy: 0.8729 - val_loss: 0.3985 - val_accuracy: 0.8667\n",
      "Epoch 15/50\n",
      "54/54 [==============================] - 18s 327ms/step - loss: 0.3773 - accuracy: 0.8645 - val_loss: 0.3979 - val_accuracy: 0.8638\n",
      "Epoch 16/50\n",
      "54/54 [==============================] - 18s 325ms/step - loss: 0.3610 - accuracy: 0.8636 - val_loss: 0.3979 - val_accuracy: 0.8638\n",
      "Epoch 17/50\n",
      "54/54 [==============================] - 18s 325ms/step - loss: 0.3652 - accuracy: 0.8642 - val_loss: 0.3979 - val_accuracy: 0.8638\n",
      "Epoch 18/50\n",
      "54/54 [==============================] - 18s 328ms/step - loss: 0.3785 - accuracy: 0.8590 - val_loss: 0.3978 - val_accuracy: 0.8638\n",
      "Epoch 19/50\n",
      "54/54 [==============================] - 18s 330ms/step - loss: 0.3558 - accuracy: 0.8659 - val_loss: 0.3979 - val_accuracy: 0.8638\n",
      "Epoch 20/50\n",
      "54/54 [==============================] - 18s 328ms/step - loss: 0.3703 - accuracy: 0.8572 - val_loss: 0.3979 - val_accuracy: 0.8638\n",
      "Epoch 21/50\n",
      "54/54 [==============================] - 18s 330ms/step - loss: 0.3737 - accuracy: 0.8593 - val_loss: 0.3979 - val_accuracy: 0.8638\n",
      "Epoch 22/50\n",
      "54/54 [==============================] - 18s 328ms/step - loss: 0.3564 - accuracy: 0.8720 - val_loss: 0.3979 - val_accuracy: 0.8638\n",
      "Epoch 23/50\n",
      "54/54 [==============================] - 18s 328ms/step - loss: 0.3678 - accuracy: 0.8677 - val_loss: 0.3979 - val_accuracy: 0.8638\n",
      "Epoch 24/50\n",
      "54/54 [==============================] - 18s 328ms/step - loss: 0.3679 - accuracy: 0.8662 - val_loss: 0.3979 - val_accuracy: 0.8638\n",
      "Epoch 25/50\n",
      "54/54 [==============================] - 18s 326ms/step - loss: 0.3697 - accuracy: 0.8691 - val_loss: 0.3979 - val_accuracy: 0.8638\n",
      "Epoch 26/50\n",
      "54/54 [==============================] - 18s 332ms/step - loss: 0.3399 - accuracy: 0.8760 - val_loss: 0.3979 - val_accuracy: 0.8638\n",
      "Epoch 27/50\n",
      "54/54 [==============================] - 18s 328ms/step - loss: 0.3585 - accuracy: 0.8653 - val_loss: 0.3979 - val_accuracy: 0.8638\n",
      "Epoch 28/50\n",
      "54/54 [==============================] - 18s 329ms/step - loss: 0.3674 - accuracy: 0.8708 - val_loss: 0.3979 - val_accuracy: 0.8638\n",
      "Epoch 29/50\n",
      "54/54 [==============================] - 18s 326ms/step - loss: 0.3799 - accuracy: 0.8598 - val_loss: 0.3979 - val_accuracy: 0.8638\n",
      "Epoch 30/50\n",
      "54/54 [==============================] - 18s 325ms/step - loss: 0.3700 - accuracy: 0.8633 - val_loss: 0.3979 - val_accuracy: 0.8638\n",
      "Epoch 31/50\n",
      "54/54 [==============================] - 18s 328ms/step - loss: 0.3562 - accuracy: 0.8677 - val_loss: 0.3979 - val_accuracy: 0.8638\n",
      "Epoch 32/50\n",
      "54/54 [==============================] - 18s 331ms/step - loss: 0.3709 - accuracy: 0.8616 - val_loss: 0.3979 - val_accuracy: 0.8638\n",
      "Epoch 33/50\n",
      "54/54 [==============================] - 18s 327ms/step - loss: 0.3510 - accuracy: 0.8711 - val_loss: 0.3979 - val_accuracy: 0.8638\n",
      "Epoch 34/50\n",
      "54/54 [==============================] - 18s 331ms/step - loss: 0.3759 - accuracy: 0.8601 - val_loss: 0.3979 - val_accuracy: 0.8638\n",
      "Epoch 35/50\n",
      "54/54 [==============================] - 18s 329ms/step - loss: 0.3554 - accuracy: 0.8694 - val_loss: 0.3979 - val_accuracy: 0.8638\n",
      "Epoch 36/50\n",
      "54/54 [==============================] - 18s 329ms/step - loss: 0.3699 - accuracy: 0.8717 - val_loss: 0.3979 - val_accuracy: 0.8638\n",
      "Epoch 37/50\n",
      "54/54 [==============================] - 18s 328ms/step - loss: 0.3732 - accuracy: 0.8674 - val_loss: 0.3979 - val_accuracy: 0.8638\n",
      "Epoch 38/50\n",
      "54/54 [==============================] - 18s 327ms/step - loss: 0.3616 - accuracy: 0.8677 - val_loss: 0.3979 - val_accuracy: 0.8638\n",
      "Epoch 39/50\n",
      "54/54 [==============================] - 18s 327ms/step - loss: 0.3797 - accuracy: 0.8595 - val_loss: 0.3979 - val_accuracy: 0.8638\n",
      "Epoch 40/50\n",
      "54/54 [==============================] - 18s 328ms/step - loss: 0.3667 - accuracy: 0.8653 - val_loss: 0.3979 - val_accuracy: 0.8638\n",
      "Epoch 41/50\n",
      "54/54 [==============================] - 18s 328ms/step - loss: 0.3719 - accuracy: 0.8642 - val_loss: 0.3979 - val_accuracy: 0.8638\n",
      "Epoch 42/50\n",
      "54/54 [==============================] - 18s 326ms/step - loss: 0.3647 - accuracy: 0.8677 - val_loss: 0.3979 - val_accuracy: 0.8638\n",
      "Epoch 43/50\n",
      "54/54 [==============================] - 18s 329ms/step - loss: 0.3685 - accuracy: 0.8624 - val_loss: 0.3979 - val_accuracy: 0.8638\n",
      "Epoch 44/50\n",
      "54/54 [==============================] - 18s 328ms/step - loss: 0.3737 - accuracy: 0.8624 - val_loss: 0.3979 - val_accuracy: 0.8638\n",
      "Epoch 45/50\n",
      "54/54 [==============================] - 18s 327ms/step - loss: 0.3646 - accuracy: 0.8703 - val_loss: 0.3979 - val_accuracy: 0.8638\n",
      "Epoch 46/50\n",
      "54/54 [==============================] - 18s 332ms/step - loss: 0.3656 - accuracy: 0.8639 - val_loss: 0.3979 - val_accuracy: 0.8638\n",
      "Epoch 47/50\n",
      "54/54 [==============================] - 18s 327ms/step - loss: 0.3594 - accuracy: 0.8691 - val_loss: 0.3979 - val_accuracy: 0.8638\n",
      "Epoch 48/50\n",
      "54/54 [==============================] - 18s 329ms/step - loss: 0.3656 - accuracy: 0.8616 - val_loss: 0.3979 - val_accuracy: 0.8638\n",
      "Epoch 49/50\n",
      "54/54 [==============================] - 18s 333ms/step - loss: 0.3593 - accuracy: 0.8711 - val_loss: 0.3979 - val_accuracy: 0.8638\n",
      "Epoch 50/50\n",
      "54/54 [==============================] - 18s 338ms/step - loss: 0.3549 - accuracy: 0.8700 - val_loss: 0.3979 - val_accuracy: 0.8638\n"
     ]
    }
   ],
   "source": [
    "opti = keras.optimizers.Adam(learning_rate=0.01)\n",
    "def my_learning_rate(epoch, lrate):\n",
    "    if epoch%3 == 0 and epoch!=0:\n",
    "        lrate = lrate * 0.2\n",
    "    return lrate\n",
    " \n",
    "lrs = keras.callbacks.LearningRateScheduler(my_learning_rate)\n",
    "\n",
    "resnet_152v2 = keras.applications.ResNet152V2(weights='imagenet',include_top=False)\n",
    "\n",
    "x = resnet_152v2.output\n",
    "x = keras.layers.GlobalAveragePooling2D()(x)\n",
    "x = keras.layers.Dense(512, activation='relu')(x)\n",
    "predictions = keras.layers.Dense(5, activation='softmax')(x)\n",
    "\n",
    "resnet_152v2_model = keras.models.Model(inputs=resnet_152v2.input, outputs=predictions)\n",
    "\n",
    "for layer in resnet_152v2.layers:\n",
    "    layer.trainable = False\n",
    "    \n",
    "resnet_152v2_model.compile(optimizer = opti,loss='categorical_crossentropy',metrics=['accuracy'])\n",
    "\n",
    "resnet_152v2_history = resnet_152v2_model.fit(train_data,epochs=50,steps_per_epoch=54,validation_data=val_data,validation_steps=6,callbacks=[lrs])"
   ]
  },
  {
   "cell_type": "code",
   "execution_count": 17,
   "id": "80fc74d1",
   "metadata": {},
   "outputs": [
    {
     "name": "stderr",
     "output_type": "stream",
     "text": [
      "c:\\users\\athar\\appdata\\local\\programs\\python\\python39\\lib\\site-packages\\tensorflow\\python\\keras\\utils\\generic_utils.py:494: CustomMaskWarning: Custom mask layers require a config and must override get_config. When loading, the custom mask layer must be passed to the custom_objects argument.\n",
      "  warnings.warn('Custom mask layers require a config and must override '\n"
     ]
    },
    {
     "name": "stdout",
     "output_type": "stream",
     "text": [
      "INFO:tensorflow:Assets written to: resnet_152v2_model\\assets\n"
     ]
    }
   ],
   "source": [
    "resnet_152v2_model.save('resnet_152v2_model')"
   ]
  },
  {
   "cell_type": "code",
   "execution_count": 11,
   "id": "43ad93da",
   "metadata": {},
   "outputs": [
    {
     "data": {
      "image/png": "[encoded data removed]",
      "text/plain": [
       "<Figure size 720x432 with 1 Axes>"
      ]
     },
     "metadata": {
      "needs_background": "light"
     },
     "output_type": "display_data"
    }
   ],
   "source": [
    "epochs = range(1,51)\n",
    "plt.figure(figsize=(10,6))\n",
    "plt.plot(epochs, resnet_152v2_history.history['loss'], label='Train Loss')\n",
    "plt.plot(epochs, resnet_152v2_history.history['val_loss'], label='Val Loss')\n",
    "plt.plot(epochs, resnet_152v2_history.history['accuracy'], label='Train Acc')\n",
    "plt.plot(epochs, resnet_152v2_history.history['val_accuracy'], label='Val Acc')\n",
    "plt.xlabel('Epochs')\n",
    "plt.title('Resnet 152V2')\n",
    "plt.grid()\n",
    "plt.legend()\n",
    "\n",
    "plt.savefig('Resnet 152V2_plot.jpg',dpi=500)\n",
    "plt.show()"
   ]
  },
  {
   "cell_type": "code",
   "execution_count": null,
   "id": "c113cc62",
   "metadata": {},
   "outputs": [],
   "source": []
  },
  {
   "cell_type": "code",
   "execution_count": null,
   "id": "96ca1270",
   "metadata": {},
   "outputs": [],
   "source": []
  }
 ],
 "metadata": {
  "kernelspec": {
   "display_name": "Python 3 (ipykernel)",
   "language": "python",
   "name": "python3"
  },
  "language_info": {
   "codemirror_mode": {
    "name": "ipython",
    "version": 3
   },
   "file_extension": ".py",
   "mimetype": "text/x-python",
   "name": "python",
   "nbconvert_exporter": "python",
   "pygments_lexer": "ipython3",
   "version": "3.9.6"
  }
 },
 "nbformat": 4,
 "nbformat_minor": 5
}
